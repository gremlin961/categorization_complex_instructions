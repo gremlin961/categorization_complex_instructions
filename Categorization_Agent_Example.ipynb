{
 "cells": [
  {
   "cell_type": "markdown",
   "id": "18bf6c5b-b6c3-4eea-a07c-9302314065d8",
   "metadata": {},
   "source": [
    "Copyright 2024 Google, LLC. This software is provided as-is,\n",
    "without warranty or representation for any use or purpose. Your\n",
    "use of it is subject to your agreement with Google.\n",
    "\n",
    "Licensed under the Apache License, Version 2.0 (the \"License\");\n",
    "you may not use this file except in compliance with the License.\n",
    "You may obtain a copy of the License at\n",
    "\n",
    "   http://www.apache.org/licenses/LICENSE-2.0\n",
    "\n",
    "Unless required by applicable law or agreed to in writing, software\n",
    "distributed under the License is distributed on an \"AS IS\" BASIS,\n",
    "WITHOUT WARRANTIES OR CONDITIONS OF ANY KIND, either express or implied.\n",
    "See the License for the specific language governing permissions and\n",
    "limitations under the License.\n",
    "\n",
    "# Categorization and Complex System Instructions\n",
    "\n",
    "This notebook provides an example for simplifying long or complex system instructions when using Gemini on Vertex AI. For more information please visit https://cloud.google.com/vertex-ai/generative-ai/docs/multimodal/send-chat-prompts-gemini and https://cloud.google.com/vertex-ai/generative-ai/docs/learn/prompts/system-instructions"
   ]
  },
  {
   "cell_type": "markdown",
   "id": "fe49d241-94f3-4685-94dc-4c0ec21208da",
   "metadata": {},
   "source": [
    "Import python libraries"
   ]
  },
  {
   "cell_type": "code",
   "execution_count": 1,
   "id": "55800605-c9b1-40c9-8c12-fb17de2876a1",
   "metadata": {
    "tags": []
   },
   "outputs": [],
   "source": [
    "import vertexai\n",
    "from vertexai.generative_models import GenerativeModel, GenerationConfig, Part, Tool, ChatSession, FunctionDeclaration\n",
    "from vertexai.preview.generative_models import grounding\n",
    "import json\n",
    "import yaml"
   ]
  },
  {
   "cell_type": "markdown",
   "id": "470424ae-972c-4f13-b3e0-15e50432f5c6",
   "metadata": {},
   "source": [
    "Set your project variables. Change \"YOUR_PROJECT_ID\" to your GCP project ID."
   ]
  },
  {
   "cell_type": "code",
   "execution_count": 2,
   "id": "93a33169-d938-4185-8a08-d48cbee56958",
   "metadata": {
    "tags": []
   },
   "outputs": [],
   "source": [
    "project_id = \"rkiles_demo-host-vpc\"\n",
    "location = \"global\"\n",
    "region = \"us-central1\"\n",
    "context_file = \"context.yaml\""
   ]
  },
  {
   "cell_type": "markdown",
   "id": "5a5ae3ef-39f0-453b-8e90-78ed1c75608c",
   "metadata": {},
   "source": [
    "# Define the prompt to request a recipe for a particular cuisine "
   ]
  },
  {
   "cell_type": "markdown",
   "id": "c1d81181-4f99-419b-a2c0-49e51fc3861c",
   "metadata": {},
   "source": [
    "Change the folloiwng cuisine to test the categorization agent and generate a recipe. You can try items like Pizza, Chicken Cordon Bleu, \n",
    "Samosa's, or even items that span multipel different categories like Rice."
   ]
  },
  {
   "cell_type": "code",
   "execution_count": 3,
   "id": "1e83b7ed-3f44-47c7-b9dd-fc7acd33b69c",
   "metadata": {
    "tags": []
   },
   "outputs": [],
   "source": [
    "prompt = f'''\n",
    "Show me a recipe for making Jambalaya.\n",
    "'''"
   ]
  },
  {
   "cell_type": "markdown",
   "id": "5b485a0d-aaa3-4f04-b411-3198c3e3d6f8",
   "metadata": {},
   "source": [
    "# Define the Categorization Agent (i.e. cat_agent)"
   ]
  },
  {
   "cell_type": "markdown",
   "id": "207771fd-fc6b-4def-bfcd-90ef543667b9",
   "metadata": {},
   "source": [
    "This will use an agent to define the categorization of the provided cuisine and return the response in a JSON object. The JSON object will include both a food_category value and a food_code value. These values will be used to provide a custom context to the recipe agent."
   ]
  },
  {
   "cell_type": "markdown",
   "id": "85737e88-7fcd-4f88-b16d-29ee9a23cf55",
   "metadata": {},
   "source": [
    "Define the response schema. In this example we will generate values for \"category\" and \"code\" to provide speficic system instructions to the Recipe agent based on the type of cuisine. Category will be an easily readable food category and used to provide additional information to the persona for the recipe model. Code will be used to provide specific information in the context section for the recipe model. "
   ]
  },
  {
   "cell_type": "code",
   "execution_count": 4,
   "id": "49c6a366-cd08-47a4-b9e6-64b0361696f6",
   "metadata": {
    "tags": []
   },
   "outputs": [],
   "source": [
    "response_schema = {\n",
    "    \"type\": \"object\",\n",
    "    \"properties\": {\n",
    "        \"category\": {\n",
    "            \"type\": \"string\",\n",
    "        },\n",
    "        \"code\": {\n",
    "            \"type\": \"string\",\n",
    "        },\n",
    "    },\n",
    "    \"required\": [\"category\", \"code\"],\n",
    "}"
   ]
  },
  {
   "cell_type": "markdown",
   "id": "ba8426ab-1595-4cf8-ba95-74af7b7848f8",
   "metadata": {},
   "source": [
    "Define the generation configuration parameters. Here we're going to specify the response should be in JSON format and the  tempeture will be set to 0"
   ]
  },
  {
   "cell_type": "code",
   "execution_count": 5,
   "id": "c72356b9-d71b-4d00-986d-218f858fcc3b",
   "metadata": {
    "tags": []
   },
   "outputs": [],
   "source": [
    "cat_agent_config = GenerationConfig(\n",
    "    #response_mime_type = \"text/plain\",\n",
    "    response_mime_type = \"application/json\",\n",
    "    temperature=0,\n",
    "    #top_p=0.2,\n",
    "    #top_k=2,\n",
    "    #candidate_count=1,\n",
    "    #max_output_tokens=8192,\n",
    "    response_schema=response_schema\n",
    ")"
   ]
  },
  {
   "cell_type": "markdown",
   "id": "919aa5cb-d209-4df2-a7a6-c131a9af56b1",
   "metadata": {},
   "source": [
    "Next we will define the system instructions for the model. In this example we will instruct the model to categorize the type of cuisine to one of 7 different options. This categorization will then be used to later define the system instructions for the Recipe agent."
   ]
  },
  {
   "cell_type": "code",
   "execution_count": 6,
   "id": "f096cda8-5e67-4c0c-b1ee-e7009c3de4ac",
   "metadata": {
    "tags": []
   },
   "outputs": [],
   "source": [
    "cat_agent_sys_instruct = f'''\n",
    "<PERSONA>\n",
    "You are a professional chef, skilled in identifying different culinary regions and cuisines\n",
    "</PERSONA>\n",
    "\n",
    "<CONTEXT>\n",
    "There are 7 categories and their associated code to choose from:\n",
    "Louisiana Creole: louisiana_creole\n",
    "Latin American: lat_am\n",
    "Caribbean: carib\n",
    "Indian: indian\n",
    "Western European: west_euro\n",
    "Fusion: fusion\n",
    "Other: other\n",
    "</CONTEXT>\n",
    "\n",
    "<OBJECTIVE>\n",
    "The goal is to correctly identify the culinary style and assign it to one of the 7 listed categories.\n",
    "</OBJECTIVE>\n",
    "'''\n"
   ]
  },
  {
   "cell_type": "code",
   "execution_count": 7,
   "id": "10a6d2f4-bbfc-47d7-ac8b-cf18ddfaea32",
   "metadata": {
    "tags": []
   },
   "outputs": [],
   "source": [
    "cat_agent_model = GenerativeModel(\n",
    "    \"gemini-1.5-flash-002\",\n",
    "    generation_config=cat_agent_config,\n",
    "    system_instruction=[cat_agent_sys_instruct],\n",
    ")"
   ]
  },
  {
   "cell_type": "markdown",
   "id": "9a4b1dab-310a-4669-a7a2-ed6d41e0807f",
   "metadata": {},
   "source": [
    "# Generate the categorization"
   ]
  },
  {
   "cell_type": "markdown",
   "id": "e93eb2cb-784f-4c29-886f-c199ba9b8a9e",
   "metadata": {},
   "source": [
    "Generate the json data for category and code"
   ]
  },
  {
   "cell_type": "code",
   "execution_count": 8,
   "id": "01f2c5df-2fa5-439e-aefb-13797f3c8f3e",
   "metadata": {
    "tags": []
   },
   "outputs": [],
   "source": [
    "cat_agent = cat_agent_model.generate_content(prompt)"
   ]
  },
  {
   "cell_type": "code",
   "execution_count": 9,
   "id": "43ad38f3-1e04-43db-9bff-42f56e7a19bc",
   "metadata": {
    "tags": []
   },
   "outputs": [
    {
     "name": "stdout",
     "output_type": "stream",
     "text": [
      "{\"category\": \"Louisiana Creole\", \"code\": \"louisiana_creole\"}\n"
     ]
    }
   ],
   "source": [
    "print(cat_agent.text)"
   ]
  },
  {
   "cell_type": "markdown",
   "id": "877f11c2-8c21-46d6-bb52-69e72c645d4f",
   "metadata": {},
   "source": [
    "Load the json data and define the food_category and food_code variables"
   ]
  },
  {
   "cell_type": "code",
   "execution_count": 10,
   "id": "ef4d4204-89da-4bab-9322-ec885ee3716e",
   "metadata": {
    "tags": []
   },
   "outputs": [],
   "source": [
    "cat_agent_data = json.loads(cat_agent.text)\n",
    "food_category = cat_agent_data['category']\n",
    "food_code = cat_agent_data['code']"
   ]
  },
  {
   "cell_type": "code",
   "execution_count": 11,
   "id": "cd3edb2d-db9e-4b9f-b42a-4e7ed9bad81a",
   "metadata": {
    "tags": []
   },
   "outputs": [
    {
     "name": "stdout",
     "output_type": "stream",
     "text": [
      "Louisiana Creole\n",
      "louisiana_creole\n"
     ]
    }
   ],
   "source": [
    "print(food_category)\n",
    "print(food_code)"
   ]
  },
  {
   "cell_type": "markdown",
   "id": "08dc0ed6-bd61-48d3-b406-5278b8f6c825",
   "metadata": {},
   "source": [
    "# Define special instructions based on the identified food category"
   ]
  },
  {
   "cell_type": "markdown",
   "id": "65b4810b-36df-4201-ab0d-462c46f7b98a",
   "metadata": {},
   "source": [
    "As defined in the Categorization Agent's system instructions, the available categories and their associated codes are:\n",
    "\n",
    "Louisiana Creole: louisiana_creole\n",
    "\n",
    "Latin American: lat_am\n",
    "\n",
    "Caribbean: carib\n",
    "\n",
    "Indian: indian\n",
    "\n",
    "Western European: west_euro\n",
    "\n",
    "Fusion: fusion\n",
    "\n",
    "Other: other"
   ]
  },
  {
   "cell_type": "markdown",
   "id": "c19237b7-a9d6-4be9-8619-29a3c237dddd",
   "metadata": {},
   "source": [
    "## Load the context.yaml file"
   ]
  },
  {
   "cell_type": "markdown",
   "id": "6812435a-24f4-4e69-a30e-f700bae84e50",
   "metadata": {},
   "source": [
    "The context.yaml file contains the system context that will be used based on the identified food code."
   ]
  },
  {
   "cell_type": "markdown",
   "id": "571d0220-7653-4a36-b9e4-855ff7980526",
   "metadata": {},
   "source": [
    "We will first start by defining a function to load the contet of a yaml file."
   ]
  },
  {
   "cell_type": "code",
   "execution_count": 12,
   "id": "a050f2e0-7d0c-455d-b24b-a2e99ae0174c",
   "metadata": {
    "tags": []
   },
   "outputs": [],
   "source": [
    "def load_yaml_data(filepath):\n",
    "    \"\"\"Loads data from a YAML file\"\"\"\n",
    "    try:\n",
    "        with open(filepath, 'r') as f:\n",
    "            data = yaml.safe_load(f)\n",
    "        return data\n",
    "    except FileNotFoundError:\n",
    "        print(f\"Error: File '{filepath}' not found.\")\n",
    "        return None\n",
    "    except yaml.YAMLError as e:\n",
    "        print(f\"Error parsing YAML file: {e}\")\n",
    "        return None"
   ]
  },
  {
   "cell_type": "markdown",
   "id": "8c8b0421-9f54-451e-9ae3-50a114d56d75",
   "metadata": {},
   "source": [
    "Now we will call the function and load the data into context_data "
   ]
  },
  {
   "cell_type": "code",
   "execution_count": 13,
   "id": "080ef011-7203-4172-b2ed-90e499f3f0cd",
   "metadata": {
    "tags": []
   },
   "outputs": [],
   "source": [
    "context_data = load_yaml_data(context_file)"
   ]
  },
  {
   "cell_type": "markdown",
   "id": "947bfa6f-7162-4b60-b707-30b2adcbe19c",
   "metadata": {},
   "source": [
    "Based on the identified category, the context we will be using in the Recipe agent is:"
   ]
  },
  {
   "cell_type": "code",
   "execution_count": 14,
   "id": "0b56991a-629c-4326-b540-4a7092dd17c4",
   "metadata": {
    "tags": []
   },
   "outputs": [
    {
     "name": "stdout",
     "output_type": "stream",
     "text": [
      "<CONTEXT>\n",
      "This cuisine is a vibrant and flavorful culinary tradition born in Louisiana, particularly in New Orleans. \n",
      "It's a melting pot of influences, reflecting the diverse cultures that shaped the region – French, Spanish, African, Native American, and even a touch of Italian and German. \n",
      "This cuisine often reflects a more urban and refined sensibility, with influences from the regions more affluent kitchens.\n",
      "\n",
      "Key characteristics of Creole cuisine include:\n",
      "The \"Holy Trinity\":  Onions, celery, and bell peppers form the aromatic base of countless Creole dishes, much like mirepoix in French cuisine.\n",
      "Roux: A thickening agent made by cooking flour in fat, usually butter or oil. The roux can range in color from blonde (for lighter sauces and soups) to dark brown (for gumbo and stews), imparting a rich flavor and texture.\n",
      "Seafood: Given Louisiana's proximity to the Gulf of Mexico, seafood plays a prominent role, including shrimp, crab, oysters, crawfish, and fish.\n",
      "Tomatoes: Tomatoes are a key ingredient in many Creole sauces and stews, adding acidity and sweetness.\n",
      "Rice:  Rice is a staple, often served alongside main dishes or incorporated into jambalaya and other specialties.\n",
      "\n",
      "The spices that truly make Louisiana Creole cuisine special are a complex and layered blend:\n",
      "Cayenne Pepper: This provides the signature heat in many dishes, adding a fiery kick without being overly aggressive.\n",
      "Black Pepper: Adds a robust, pungent flavor and depth.\n",
      "White Pepper: Used for its milder heat and subtle earthy notes.\n",
      "Paprika: Contributes a sweet, smoky flavor and vibrant color, especially Spanish paprika.\n",
      "Garlic Powder:  Enhances the savory notes and adds a hint of pungency.\n",
      "Onion Powder: Adds a sweet and savory base flavor.\n",
      "Dried Thyme: Provides an earthy, slightly minty flavor that complements the other spices.\n",
      "Dried Oregano: Adds a peppery, slightly bitter note that balances the sweetness.\n",
      "Bay Leaves:  Used to infuse a subtle, herbal aroma into stews and sauces.\n",
      "File Powder: A unique spice made from ground sassafras leaves, used as a thickener and flavoring agent in gumbo, adding a distinctive, slightly root beer-like flavor.\n",
      "</CONTEXT>\n",
      "\n"
     ]
    }
   ],
   "source": [
    "print(context_data[food_code])"
   ]
  },
  {
   "cell_type": "markdown",
   "id": "a4f61fa0-d70b-447b-bc11-4a7ac99ae8d6",
   "metadata": {},
   "source": [
    "# Instantiate the Recipe Agent"
   ]
  },
  {
   "cell_type": "markdown",
   "id": "6913f8ea-6544-46a9-9eaf-6a83d1e7da2c",
   "metadata": {},
   "source": [
    "This agent will use the output of the categorization agent and use the specific context for the identified food category to generate a recipe."
   ]
  },
  {
   "cell_type": "markdown",
   "id": "4a56a1cb-4b6c-41e7-ab93-6f8ae5ab8a8d",
   "metadata": {},
   "source": [
    "Define the generation config parameters for the recipe agent"
   ]
  },
  {
   "cell_type": "code",
   "execution_count": 15,
   "id": "007455dc-c398-47c9-9617-e5698f47084d",
   "metadata": {
    "tags": []
   },
   "outputs": [],
   "source": [
    "recipe_agent_config = GenerationConfig(\n",
    "    response_mime_type = \"text/plain\",\n",
    "    #response_mime_type = \"application/json\",\n",
    "    temperature=1,\n",
    "    top_p=0.5,\n",
    "    top_k=3,\n",
    "    #candidate_count=1,\n",
    "    #max_output_tokens=8192,\n",
    "    #response_schema=response_schema\n",
    ")"
   ]
  },
  {
   "cell_type": "markdown",
   "id": "5e00a611-9528-4c94-a03e-a8cd2c0128ed",
   "metadata": {},
   "source": [
    "You can see here that we are using the food_category value to guide the persona of the recipe agent and the food_code to specify the context.\n",
    "This will help reduce the complexity of the context window while still allowing for a wide range of very specific instructions for the model."
   ]
  },
  {
   "cell_type": "code",
   "execution_count": 16,
   "id": "52df3c0a-ac70-43cd-a869-57cd3f2aaa73",
   "metadata": {
    "tags": []
   },
   "outputs": [],
   "source": [
    "recipe_agent_sys_instruct = f'''\n",
    "<PERSONA>\n",
    "You are a culinary expert, specalizing in {food_category} cuisine.\n",
    "</PERSONA>\n",
    "\n",
    "{context_data[food_code]}\n",
    "\n",
    "<OBJECTIVE>\n",
    "Based on the provided context about '{food_category}', create a delicious and authentic recipe.\n",
    "</OBJECTIVE>\n",
    "'''\n"
   ]
  },
  {
   "cell_type": "markdown",
   "id": "5de170e6-b771-4f0a-bc42-6ae2021868cb",
   "metadata": {},
   "source": [
    "Now we will instantiate the recipe agent and generate the requested recipe"
   ]
  },
  {
   "cell_type": "code",
   "execution_count": 17,
   "id": "60aa1a14-7921-4015-967e-569dc132af4e",
   "metadata": {
    "tags": []
   },
   "outputs": [],
   "source": [
    "recipe_agent_model = GenerativeModel(\n",
    "    \"gemini-1.5-pro-002\",\n",
    "    generation_config=recipe_agent_config,\n",
    "    #tools=[tool_final],\n",
    "    system_instruction=[recipe_agent_sys_instruct],\n",
    ")\n",
    "\n",
    "recipe_agent = recipe_agent_model.start_chat()"
   ]
  },
  {
   "cell_type": "markdown",
   "id": "51680851-4f7e-45f1-9b3f-18b5c86dec1a",
   "metadata": {},
   "source": [
    "## Start with a simple chat session"
   ]
  },
  {
   "cell_type": "markdown",
   "id": "556959ee-e70c-47e8-a582-f3e407516c24",
   "metadata": {},
   "source": [
    "We will start the recipe agent chat session with the same prompt we used for the categorization agent."
   ]
  },
  {
   "cell_type": "code",
   "execution_count": 18,
   "id": "e858bbc7-e055-4a2a-b46f-42c2d5780a45",
   "metadata": {
    "tags": []
   },
   "outputs": [
    {
     "name": "stdout",
     "output_type": "stream",
     "text": [
      "## Shrimp and Andouille Sausage Jambalaya\n",
      "\n",
      "This recipe focuses on shrimp and Andouille sausage, but you can easily adapt it with chicken, other seafood, or even rabbit.\n",
      "\n",
      "**Yields:** 6-8 servings\n",
      "**Prep time:** 20 minutes\n",
      "**Cook time:** 45 minutes\n",
      "\n",
      "\n",
      "**Ingredients:**\n",
      "\n",
      "* 1 pound Andouille sausage, sliced into 1/4-inch thick rounds\n",
      "* 1 pound large shrimp, peeled and deveined\n",
      "* 1 cup long-grain rice\n",
      "* 1 large onion, chopped\n",
      "* 1 green bell pepper, chopped\n",
      "* 2 celery stalks, chopped (the Holy Trinity)\n",
      "* 4 cloves garlic, minced\n",
      "* 1 (14.5 ounce) can diced tomatoes, undrained\n",
      "* 1 (10 ounce) can diced tomatoes and green chilies (Rotel), undrained\n",
      "* 4 cups chicken broth\n",
      "* 1 teaspoon cayenne pepper (or more, to taste)\n",
      "* 1 teaspoon smoked paprika\n",
      "* 1/2 teaspoon black pepper\n",
      "* 1/2 teaspoon white pepper\n",
      "* 1/2 teaspoon dried thyme\n",
      "* 1/4 teaspoon dried oregano\n",
      "* 2 bay leaves\n",
      "* 1/4 cup chopped green onions, for garnish\n",
      "* Cooked white rice, for serving (optional)\n",
      "\n",
      "\n",
      "**Instructions:**\n",
      "\n",
      "1. **Brown the Sausage:** In a large Dutch oven or heavy-bottomed pot, brown the Andouille sausage over medium-high heat.  Remove the sausage from the pot and set aside, leaving the rendered fat in the pot.\n",
      "2. **Sauté the \"Holy Trinity\":** Add the onion, bell pepper, and celery to the pot and cook until softened, about 5-7 minutes.  Add the minced garlic and cook for another minute until fragrant.\n",
      "3. **Build the Flavor:** Stir in the diced tomatoes, Rotel, cayenne pepper, smoked paprika, black pepper, white pepper, thyme, oregano, and bay leaves. Bring to a simmer.\n",
      "4. **Add the Rice:** Add the rice to the pot and stir well to coat it with the tomato mixture. Pour in the chicken broth, bring back to a simmer, then reduce heat to low, cover, and cook for 20 minutes, or until the rice is almost cooked through.\n",
      "5. **Incorporate Sausage and Shrimp:**  Add the cooked Andouille sausage back to the pot.  Stir in the shrimp and continue to cook, covered, for another 5-7 minutes, or until the shrimp is pink and cooked through and the rice is tender.\n",
      "6. **Rest and Serve:** Remove the pot from the heat and let it rest, covered, for 5-10 minutes. Discard the bay leaves. Garnish with chopped green onions. Serve hot, optionally over a bed of cooked white rice for a truly authentic Creole experience.\n",
      "\n",
      "\n",
      "**Chef's Tips:**\n",
      "\n",
      "* For a deeper smoky flavor, use smoked Andouille sausage.\n",
      "* Adjust the amount of cayenne pepper to your preferred level of heat.\n",
      "* Don't lift the lid while the rice is cooking, as this will release steam and could result in undercooked rice.\n",
      "*  A cast iron pot works wonderfully for this recipe.\n",
      "*  Serve with a side of crusty French bread for soaking up the delicious juices.\n",
      "\n",
      "\n",
      "Enjoy your authentic Louisiana Creole Jambalaya! Laissez les bons temps rouler!\n",
      "\n"
     ]
    }
   ],
   "source": [
    "response = recipe_agent.send_message(prompt)\n",
    "print(response.text)"
   ]
  },
  {
   "cell_type": "markdown",
   "id": "e4ac1317-603f-41d5-b84f-9249cc9b9826",
   "metadata": {},
   "source": [
    "## Now let's continue the chat session with the recipe agent"
   ]
  },
  {
   "cell_type": "code",
   "execution_count": 19,
   "id": "56d5dd7c-bcde-4e1f-83b0-4c45e91604f3",
   "metadata": {
    "tags": []
   },
   "outputs": [
    {
     "name": "stdout",
     "output_type": "stream",
     "text": [
      "To scale this Shrimp and Andouille Sausage Jambalaya recipe to feed 10 people, you'll roughly need to increase the ingredients by 1.5 times. Here's the adjusted recipe:\n",
      "\n",
      "**Yields:** 10 servings\n",
      "**Prep time:** 25 minutes\n",
      "**Cook time:** 50-55 minutes\n",
      "\n",
      "**Ingredients:**\n",
      "\n",
      "* 1.5 pounds Andouille sausage, sliced into 1/4-inch thick rounds\n",
      "* 1.5 pounds large shrimp, peeled and deveined\n",
      "* 1.5 cups long-grain rice\n",
      "* 1.5 large onions, chopped (or 1 very large onion)\n",
      "* 1.5 green bell peppers, chopped (or 1 very large bell pepper)\n",
      "* 3 celery stalks, chopped\n",
      "* 6 cloves garlic, minced\n",
      "* 1 (28 ounce) can diced tomatoes, undrained (or two 14.5 oz cans)\n",
      "* 1 (15 ounce) can diced tomatoes and green chilies (Rotel), undrained (or one 10 oz can plus half of another)\n",
      "* 6 cups chicken broth\n",
      "* 1.5 teaspoons cayenne pepper (or more, to taste)\n",
      "* 1.5 teaspoons smoked paprika\n",
      "* 0.75 teaspoon black pepper\n",
      "* 0.75 teaspoon white pepper\n",
      "* 0.75 teaspoon dried thyme\n",
      "* 0.375 teaspoon dried oregano (a scant 1/2 teaspoon)\n",
      "* 3 bay leaves\n",
      "* 1/2 cup chopped green onions, for garnish\n",
      "* Cooked white rice, for serving (optional)\n",
      "\n",
      "\n",
      "**Instructions:**\n",
      "\n",
      "Follow the same instructions as the original recipe, but be aware that with the increased volume, the cooking times might need slight adjustments.  You may need to cook the rice a little longer, perhaps 25-30 minutes instead of 20, and the shrimp may take a few extra minutes as well.  Just make sure the rice is tender and the shrimp is cooked through.  You may also need to use a larger pot to accommodate the increased volume of ingredients.\n",
      "\n",
      "**Important Note:** When scaling up recipes, taste and adjust seasonings as needed. You might find you need a little more or less of certain spices to achieve the desired flavor balance.  Since you're working with more ingredients, it's always a good idea to taste and adjust towards the end of the cooking process.\n",
      "\n"
     ]
    }
   ],
   "source": [
    "prompt = \"I need to feed 10 people. How should I change the measurements?\"\n",
    "response = recipe_agent.send_message(prompt)\n",
    "print(response.text)"
   ]
  }
 ],
 "metadata": {
  "environment": {
   "kernel": "conda-base-py",
   "name": "workbench-notebooks.m124",
   "type": "gcloud",
   "uri": "us-docker.pkg.dev/deeplearning-platform-release/gcr.io/workbench-notebooks:m124"
  },
  "kernelspec": {
   "display_name": "Python 3 (ipykernel)",
   "language": "python",
   "name": "conda-base-py"
  },
  "language_info": {
   "codemirror_mode": {
    "name": "ipython",
    "version": 3
   },
   "file_extension": ".py",
   "mimetype": "text/x-python",
   "name": "python",
   "nbconvert_exporter": "python",
   "pygments_lexer": "ipython3",
   "version": "3.10.14"
  }
 },
 "nbformat": 4,
 "nbformat_minor": 5
}
