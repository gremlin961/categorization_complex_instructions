{
 "cells": [
  {
   "cell_type": "markdown",
   "id": "18bf6c5b-b6c3-4eea-a07c-9302314065d8",
   "metadata": {},
   "source": [
    "Copyright 2024 Google, LLC. This software is provided as-is,\n",
    "without warranty or representation for any use or purpose. Your\n",
    "use of it is subject to your agreement with Google.\n",
    "\n",
    "Licensed under the Apache License, Version 2.0 (the \"License\");\n",
    "you may not use this file except in compliance with the License.\n",
    "You may obtain a copy of the License at\n",
    "\n",
    "   http://www.apache.org/licenses/LICENSE-2.0\n",
    "\n",
    "Unless required by applicable law or agreed to in writing, software\n",
    "distributed under the License is distributed on an \"AS IS\" BASIS,\n",
    "WITHOUT WARRANTIES OR CONDITIONS OF ANY KIND, either express or implied.\n",
    "See the License for the specific language governing permissions and\n",
    "limitations under the License.\n",
    "\n",
    "# Categorization and Complex System Instructions\n",
    "\n",
    "This notebook provides a simple example for interacting with Google's Gemini models for chat using Vertex AI. For more information please visit https://cloud.google.com/vertex-ai/generative-ai/docs/multimodal/send-chat-prompts-gemini"
   ]
  },
  {
   "cell_type": "markdown",
   "id": "fe49d241-94f3-4685-94dc-4c0ec21208da",
   "metadata": {},
   "source": [
    "Import python libraries"
   ]
  },
  {
   "cell_type": "code",
   "execution_count": null,
   "id": "55800605-c9b1-40c9-8c12-fb17de2876a1",
   "metadata": {
    "tags": []
   },
   "outputs": [],
   "source": [
    "import base64\n",
    "import vertexai\n",
    "from vertexai.generative_models import GenerativeModel, GenerationConfig, Part, Tool, ChatSession, FunctionDeclaration\n",
    "import vertexai.preview.generative_models as generative_models\n",
    "from vertexai.preview.generative_models import grounding\n",
    "import requests\n",
    "import json"
   ]
  },
  {
   "cell_type": "markdown",
   "id": "470424ae-972c-4f13-b3e0-15e50432f5c6",
   "metadata": {},
   "source": [
    "Set your project variables. Change \"YOUR_PROJECT_ID\" to your GCP project ID."
   ]
  },
  {
   "cell_type": "code",
   "execution_count": null,
   "id": "93a33169-d938-4185-8a08-d48cbee56958",
   "metadata": {
    "tags": []
   },
   "outputs": [],
   "source": [
    "project_id = \"YOUR_PROJECT_ID\"\n",
    "location = \"global\"\n",
    "region = \"us-central1\""
   ]
  },
  {
   "cell_type": "markdown",
   "id": "5a5ae3ef-39f0-453b-8e90-78ed1c75608c",
   "metadata": {},
   "source": [
    "# Define the prompt to request a recipe for a particular cuisine "
   ]
  },
  {
   "cell_type": "markdown",
   "id": "c1d81181-4f99-419b-a2c0-49e51fc3861c",
   "metadata": {},
   "source": [
    "Change the folloiwng cuisine to test the categorization agent and generate a recipe. "
   ]
  },
  {
   "cell_type": "code",
   "execution_count": null,
   "id": "1e83b7ed-3f44-47c7-b9dd-fc7acd33b69c",
   "metadata": {
    "tags": []
   },
   "outputs": [],
   "source": [
    "prompt = f'''\n",
    "Show me a recipe for making Jambalaya.\n",
    "'''"
   ]
  },
  {
   "cell_type": "markdown",
   "id": "5b485a0d-aaa3-4f04-b411-3198c3e3d6f8",
   "metadata": {},
   "source": [
    "# Define the Categorization Agent (i.e. cat_agent)"
   ]
  },
  {
   "cell_type": "markdown",
   "id": "207771fd-fc6b-4def-bfcd-90ef543667b9",
   "metadata": {},
   "source": [
    "This will use an agent to define the categorization of the provided cuisine and return the response in a JSON object. The JSON object will include both a food_category value and a food_code value. These values will be used to provide a custom context to the recipe agent."
   ]
  },
  {
   "cell_type": "markdown",
   "id": "85737e88-7fcd-4f88-b16d-29ee9a23cf55",
   "metadata": {},
   "source": [
    "Define the response schema. In this example we will generate values for \"category\" and \"code\" to provide speficic system instructions to the Recipe agent based on the type of cuisine. Category will be an easily readable food category and used to provide additional information to the persona for the recipe model. Code will be used to provide specific information in the context section for the recipe model. "
   ]
  },
  {
   "cell_type": "code",
   "execution_count": null,
   "id": "49c6a366-cd08-47a4-b9e6-64b0361696f6",
   "metadata": {
    "tags": []
   },
   "outputs": [],
   "source": [
    "response_schema = {\n",
    "    \"type\": \"object\",\n",
    "    \"properties\": {\n",
    "        \"category\": {\n",
    "            \"type\": \"string\",\n",
    "        },\n",
    "        \"code\": {\n",
    "            \"type\": \"string\",\n",
    "        },\n",
    "    },\n",
    "    \"required\": [\"category\", \"code\"],\n",
    "}"
   ]
  },
  {
   "cell_type": "code",
   "execution_count": null,
   "id": "c72356b9-d71b-4d00-986d-218f858fcc3b",
   "metadata": {
    "tags": []
   },
   "outputs": [],
   "source": [
    "cat_agent_config = GenerationConfig(\n",
    "    #response_mime_type = \"text/plain\",\n",
    "    response_mime_type = \"application/json\",\n",
    "    temperature=0,\n",
    "    #top_p=0.2,\n",
    "    #top_k=2,\n",
    "    #candidate_count=1,\n",
    "    #max_output_tokens=8192,\n",
    "    response_schema=response_schema\n",
    ")"
   ]
  },
  {
   "cell_type": "code",
   "execution_count": null,
   "id": "f096cda8-5e67-4c0c-b1ee-e7009c3de4ac",
   "metadata": {
    "tags": []
   },
   "outputs": [],
   "source": [
    "cat_agent_sys_instruct = f'''\n",
    "<PERSONA>\n",
    "You are a professional chef, skilled in identifying different culinary regions and cuisines\n",
    "</PERSONA>\n",
    "\n",
    "<CONTEXT>\n",
    "There are 7 categories and their associated code to choose from:\n",
    "Louisiana Creole: louisiana_creole\n",
    "Latin American: lat_am\n",
    "Caribbean: carib\n",
    "Indian: indian\n",
    "Western European: west_euro\n",
    "Fusion: fusion\n",
    "Other: other\n",
    "</CONTEXT>\n",
    "\n",
    "<OBJECTIVE>\n",
    "The goal is to correctly identify the culinary style and assign it to one of the 7 listed categories.\n",
    "</OBJECTIVE>\n",
    "'''\n"
   ]
  },
  {
   "cell_type": "code",
   "execution_count": null,
   "id": "10a6d2f4-bbfc-47d7-ac8b-cf18ddfaea32",
   "metadata": {
    "tags": []
   },
   "outputs": [],
   "source": [
    "cat_agent_model = GenerativeModel(\n",
    "    \"gemini-1.5-flash-002\",\n",
    "    generation_config=cat_agent_config,\n",
    "    #tools=[tool_final],\n",
    "    system_instruction=[cat_agent_sys_instruct],\n",
    ")"
   ]
  },
  {
   "cell_type": "markdown",
   "id": "9a4b1dab-310a-4669-a7a2-ed6d41e0807f",
   "metadata": {},
   "source": [
    "# Generate the categorization"
   ]
  },
  {
   "cell_type": "markdown",
   "id": "e93eb2cb-784f-4c29-886f-c199ba9b8a9e",
   "metadata": {},
   "source": [
    "Generate the json data for category and code"
   ]
  },
  {
   "cell_type": "code",
   "execution_count": null,
   "id": "01f2c5df-2fa5-439e-aefb-13797f3c8f3e",
   "metadata": {
    "tags": []
   },
   "outputs": [],
   "source": [
    "cat_agent = cat_agent_model.generate_content(prompt)"
   ]
  },
  {
   "cell_type": "code",
   "execution_count": null,
   "id": "43ad38f3-1e04-43db-9bff-42f56e7a19bc",
   "metadata": {
    "tags": []
   },
   "outputs": [],
   "source": [
    "print(cat_agent.text)"
   ]
  },
  {
   "cell_type": "markdown",
   "id": "877f11c2-8c21-46d6-bb52-69e72c645d4f",
   "metadata": {},
   "source": [
    "Load the json data and define the food_category and food_code variables"
   ]
  },
  {
   "cell_type": "code",
   "execution_count": null,
   "id": "ef4d4204-89da-4bab-9322-ec885ee3716e",
   "metadata": {
    "tags": []
   },
   "outputs": [],
   "source": [
    "cat_agent_data = json.loads(cat_agent.text)\n",
    "food_category = cat_agent_data['category']\n",
    "food_code = cat_agent_data['code']"
   ]
  },
  {
   "cell_type": "code",
   "execution_count": null,
   "id": "cd3edb2d-db9e-4b9f-b42a-4e7ed9bad81a",
   "metadata": {
    "tags": []
   },
   "outputs": [],
   "source": [
    "print(food_category)\n",
    "print(food_code)"
   ]
  },
  {
   "cell_type": "markdown",
   "id": "08dc0ed6-bd61-48d3-b406-5278b8f6c825",
   "metadata": {},
   "source": [
    "# Define special instructions based on the identified food category"
   ]
  },
  {
   "cell_type": "markdown",
   "id": "65b4810b-36df-4201-ab0d-462c46f7b98a",
   "metadata": {},
   "source": [
    "As defined in the Categorization Agent's system instructions, the available categories and their associated codes are:\n",
    "\n",
    "Louisiana Creole: louisiana_creole\n",
    "\n",
    "Latin American: lat_am\n",
    "\n",
    "Caribbean: carib\n",
    "\n",
    "Indian: indian\n",
    "\n",
    "Western European: west_euro\n",
    "\n",
    "Fusion: fusion\n",
    "\n",
    "Other: other"
   ]
  },
  {
   "cell_type": "markdown",
   "id": "f553c632-9a4e-442e-bdc2-a7d0d98bb40b",
   "metadata": {},
   "source": [
    "## Create a dictionary of the specific contexts"
   ]
  },
  {
   "cell_type": "markdown",
   "id": "6812435a-24f4-4e69-a30e-f700bae84e50",
   "metadata": {},
   "source": [
    "This dictionary contains the system context that will be used based on the identified food code."
   ]
  },
  {
   "cell_type": "code",
   "execution_count": null,
   "id": "0d3d3fec-b600-41d2-af4a-837a097a4f20",
   "metadata": {
    "tags": []
   },
   "outputs": [],
   "source": [
    "contexts = {\n",
    "    'louisiana_creole': f'''\n",
    "<CONTEXT>\n",
    "This cuisine is a vibrant and flavorful culinary tradition born in Louisiana, particularly in New Orleans. \n",
    "It's a melting pot of influences, reflecting the diverse cultures that shaped the region – French, Spanish, African, Native American, and even a touch of Italian and German. \n",
    "This cuisine often reflects a more urban and refined sensibility, with influences from the regions more affluent kitchens.\n",
    "\n",
    "Key characteristics of Creole cuisine include:\n",
    "The \"Holy Trinity\":  Onions, celery, and bell peppers form the aromatic base of countless Creole dishes, much like mirepoix in French cuisine.\n",
    "Roux: A thickening agent made by cooking flour in fat, usually butter or oil. The roux can range in color from blonde (for lighter sauces and soups) to dark brown (for gumbo and stews), imparting a rich flavor and texture.\n",
    "Seafood: Given Louisiana's proximity to the Gulf of Mexico, seafood plays a prominent role, including shrimp, crab, oysters, crawfish, and fish.\n",
    "Tomatoes: Tomatoes are a key ingredient in many Creole sauces and stews, adding acidity and sweetness.\n",
    "Rice:  Rice is a staple, often served alongside main dishes or incorporated into jambalaya and other specialties.\n",
    "\n",
    "The spices that truly make Louisiana Creole cuisine special are a complex and layered blend:\n",
    "Cayenne Pepper: This provides the signature heat in many dishes, adding a fiery kick without being overly aggressive.\n",
    "Black Pepper: Adds a robust, pungent flavor and depth.\n",
    "White Pepper: Used for its milder heat and subtle earthy notes.\n",
    "Paprika: Contributes a sweet, smoky flavor and vibrant color, especially Spanish paprika.\n",
    "Garlic Powder:  Enhances the savory notes and adds a hint of pungency.\n",
    "Onion Powder: Adds a sweet and savory base flavor.\n",
    "Dried Thyme: Provides an earthy, slightly minty flavor that complements the other spices.\n",
    "Dried Oregano: Adds a peppery, slightly bitter note that balances the sweetness.\n",
    "Bay Leaves:  Used to infuse a subtle, herbal aroma into stews and sauces.\n",
    "File Powder: A unique spice made from ground sassafras leaves, used as a thickener and flavoring agent in gumbo, adding a distinctive, slightly root beer-like flavor.\n",
    "</CONTEXT>\n",
    "    ''',\n",
    "    'lat_am': f'''\n",
    "<CONTEXT>\n",
    "Latian American food is incredibly diverse, encompassing a vast range of cuisines influenced by Indigenous traditions, European colonization (primarily Spanish and Portuguese), African cultures, and Asian immigration.\n",
    "Common characteristics of Latin American cuisines include:\n",
    "Fresh Produce: Abundant fruits, vegetables, and herbs are essential, reflecting the rich biodiversity of the region.  Think tomatoes, corn, avocados, beans, peppers, cilantro, and more.\n",
    "Meats: Beef, pork, poultry, and seafood are all popular, often marinated or seasoned with vibrant spice blends.\n",
    "Corn: A staple grain, used in everything from tortillas and tamales to arepas and empanadas.\n",
    "Beans: Another staple, providing protein and flavor in dishes like black beans in Cuba, kidney beans in Mexico, and lentils in Peru.\n",
    "Chilies:  From mild to fiery, chilies are used extensively for heat, flavor, and color.\n",
    "\n",
    "Key spices that contribute to the diverse flavors of Latin American cuisine:\n",
    "Cumin: An earthy, warm spice used across the region, especially in Mexican, Cuban, and Tex-Mex cooking.\n",
    "Chili Powder: Blends vary greatly, but often include dried chilies, cumin, oregano, and garlic. Ancho, chipotle, and New Mexico chilies are common.\n",
    "Oregano: Both Mexican and Mediterranean oregano are used, adding a pungent, slightly bitter note.\n",
    "Coriander (Cilantro): Fresh cilantro is a ubiquitous herb, adding a bright, citrusy flavor to salsas, guacamole, and many other dishes.\n",
    "Achiote (Annato):  A seed that provides a vibrant red-orange color and a slightly earthy, peppery flavor, especially in Caribbean and Central American cuisines.\n",
    "Garlic: Essential for building flavor in sofritos, marinades, and sauces.\n",
    "Onion:  Another aromatic base ingredient, used in various forms.\n",
    "Paprika: Adds sweetness and color, particularly smoked paprika in some regions.\n",
    "Cinnamon: Used in both savory and sweet dishes, particularly in Mexican moles and Caribbean stews.\n",
    "Cloves:  Appear in both savory and sweet preparations, especially in mole sauces.\n",
    "Allspice:  Common in Caribbean cuisine, lending a warm, complex flavor that hints at cinnamon, cloves, and nutmeg.\n",
    "</CONTEXT>\n",
    "''',\n",
    "    'carib': f'''\n",
    "<CONTEXT>\n",
    "Caribbean cuisine is a vibrant tapestry of flavors, reflecting the diverse history and cultural influences of the islands. \n",
    "Indigenous traditions, European colonization (Spanish, British, French, Dutch), African heritage, and Indian and Chinese immigration have all contributed to the unique culinary landscape of the Caribbean.\n",
    "\n",
    "Spices that define Caribbean cuisine:\n",
    "Scotch Bonnet Peppers:  These fiery chilies are a hallmark of Caribbean cooking, adding intense heat and fruity flavor.\n",
    "Allspice:  Used extensively, particularly in Jamaican jerk seasoning, providing a warm, complex flavor with hints of cinnamon, cloves, and nutmeg.\n",
    "Nutmeg:  Grown throughout the islands, nutmeg adds a warm, sweet, and slightly nutty flavor to both savory and sweet dishes.\n",
    "Ginger:  Used fresh, dried, or ground, ginger adds a pungent, spicy kick to marinades, sauces, and desserts.\n",
    "Cinnamon:  Found in both savory and sweet preparations, cinnamon contributes warmth and sweetness.\n",
    "Cloves:  Used in stews, marinades, and desserts, adding a warm, aromatic flavor.\n",
    "Cumin:  Appears in some dishes, particularly those with Indian or Spanish influences.\n",
    "Thyme:  Used fresh or dried, thyme adds an earthy, slightly minty note to stews and marinades.\n",
    "Garlic:  Essential for building flavor in sofritos and sauces.\n",
    "Onion:  Another aromatic base ingredient, used in various forms.\n",
    "Paprika:  Adds color and a mild sweetness to some dishes.\n",
    "\n",
    "Regional variations in spice usage:\n",
    "Jamaica:  Known for its jerk seasoning, a fiery blend typically including scotch bonnet peppers, allspice, thyme, and ginger.\n",
    "Trinidad and Tobago:  Influenced by Indian cuisine, using curry powder, turmeric, and cumin.\n",
    "Cuba:  Sofrito, a base of sautéed onions, garlic, and bell peppers, is common, along with cumin and oregano.\n",
    "Dominican Republic:  Employs a similar sofrito, often with annatto (achiote) for color and flavor.\n",
    "Puerto Rico:  Uses sofrito as well, with adobo seasoning (a blend of garlic powder, oregano, and other spices).\n",
    "</CONTEXT>\n",
    "''',\n",
    "    'indian': f'''\n",
    "<CONTEXT>\n",
    "Indian cuisine is renowned globally for its incredible diversity and complex use of spices.  \n",
    "Spanning a vast subcontinent with varied regional traditions and religious influences, Indian food is a vibrant tapestry of flavors, aromas, and textures.\n",
    "\n",
    "Key characteristics of Indian cuisine:\n",
    "Spices: The defining feature, used in intricate combinations to create depth, complexity, and balance.\n",
    "Fresh Produce:  Fruits, vegetables, and herbs are essential, including onions, garlic, ginger, chilies, tomatoes, and cilantro.\n",
    "Legumes: Lentils, chickpeas, and other beans are staple sources of protein.\n",
    "Grains: Rice, wheat, and millet are foundational, used in various forms like roti, naan, and dosa.\n",
    "Dairy Products: Yogurt, ghee (clarified butter), and paneer (cheese) are commonly used.\n",
    "Regional Variations: From the creamy curries of the north to the fiery seafood dishes of the south, Indian cuisine offers immense regional diversity.\n",
    "\n",
    "Essential spices in Indian cuisine:\n",
    "Turmeric:  A cornerstone spice, providing a vibrant yellow color and earthy, slightly bitter flavor. It also has anti-inflammatory properties.\n",
    "Cumin: Used whole or ground, cumin adds a warm, earthy flavor and is a staple in many dishes.\n",
    "Coriander:  Both the seeds and fresh leaves (cilantro) are used, offering citrusy and fresh notes.\n",
    "Chili Powder:  From mild Kashmiri chili to fiery ghost peppers, chili powders add heat and depth of flavor.\n",
    "Garam Masala:  A blend of ground spices, varying by region but typically includes cinnamon, cardamom, cloves, black pepper, and nutmeg.\n",
    "Ginger:  Used fresh, dried, or ground, ginger adds a pungent, spicy kick.\n",
    "Garlic:  Essential for building flavor in curries and other dishes.\n",
    "Cardamom:  Green cardamom offers a fragrant, slightly sweet flavor, while black cardamom is more smoky.\n",
    "Cloves:  Provide a warm, sweet, and intense flavor.\n",
    "Cinnamon:  Used in both savory and sweet preparations, adding warmth and sweetness.\n",
    "Black Pepper:  Adds a pungent, spicy kick.\n",
    "Mustard Seeds:  Used whole in tempering (tadka), adding a pungent, nutty flavor.\n",
    "Fenugreek Seeds:  Provide a slightly bitter, maple-syrupy flavor.\n",
    "Saffron:  A prized spice, adding a vibrant yellow color and a distinct, floral aroma.\n",
    "\n",
    "Regional spice variations:\n",
    "North India:  Known for rich, creamy curries using garam masala, cardamom, and saffron.\n",
    "South India:  Employs more chilies, mustard seeds, curry leaves, and coconut.\n",
    "East India:  Features mustard oil, panch phoron (a five-spice blend), and fish.\n",
    "West India:  Uses coconut, chilies, and tamarind for tangy flavors.\n",
    "</CONTEXT>\n",
    "''',\n",
    "    'west_euro': f'''\n",
    "<CONTEXT>\n",
    "Western European cuisine encompasses a wide range of culinary traditions, influenced by geography, history, and cultural exchange. While diverse, some common themes and spice \n",
    "usages tie the region together.\n",
    "\n",
    "Key characteristics of Western European cuisine:\n",
    "Fresh, Seasonal Ingredients:  Emphasis on locally sourced produce, meats, and seafood.\n",
    "Dairy Products:  Cheese, butter, and cream are widely used.\n",
    "Bread:  Various types of bread are staples, from crusty baguettes to hearty rye loaves.\n",
    "Wine:  Plays a significant role in both cooking and dining.\n",
    "Regional Variations:  Distinct culinary traditions exist within each country and even specific regions.\n",
    "Commonly used spices in Western European cuisine:\n",
    "Black Pepper: A staple across the region, adding pungency and depth of flavor.\n",
    "Parsley: Used fresh or dried, adding a bright, herbaceous note.\n",
    "Thyme: A versatile herb, providing an earthy, slightly minty flavor.\n",
    "Rosemary:  Aromatic and slightly piney, often used with roasted meats and vegetables.\n",
    "Bay Leaves:  Used to infuse a subtle, herbal aroma into stews and sauces.\n",
    "Garlic: Essential for building flavor in many dishes.\n",
    "Onion: Another aromatic base ingredient, used in various forms.\n",
    "Nutmeg: Adds warmth and a slightly sweet flavor to savory dishes and desserts.\n",
    "Cloves:  Used sparingly in savory dishes and more prominently in desserts and beverages.\n",
    "Mustard:  Used as a condiment and in sauces, adding a pungent kick.\n",
    "Juniper Berries:  Used to flavor game meats and in gin production.\n",
    "\n",
    "Regional spice variations:\n",
    "France:  Emphasizes fresh herbs like thyme, rosemary, and parsley, along with bay leaves and black pepper. Regional variations include saffron in the south and anise in the east.\n",
    "Italy:  Known for its simplicity, relying on fresh herbs like basil, oregano, and rosemary, along with garlic, black pepper, and chili flakes in some regions.\n",
    "Spain:  Uses smoked paprika (pimentón), saffron, garlic, and bay leaves.\n",
    "Portugal:  Employs piri-piri chilies, bay leaves, garlic, and paprika.\n",
    "United Kingdom:  Traditionally uses fewer spices, relying on herbs like thyme, rosemary, and sage, along with mustard and black pepper. Indian spices have become more prevalent due to historical ties.\n",
    "Germany:  Uses caraway seeds, juniper berries, mustard, and black pepper.\n",
    "Belgium & Netherlands:  Similar to Germany, with the addition of nutmeg and cloves in some dishes.\n",
    "\n",
    "While Western European cuisine may not be as spice-forward as some other global cuisines, the careful use of herbs, spices, and aromatics creates balanced and flavorful dishes that reflect the region's diverse culinary heritage. \n",
    "The focus is often on enhancing the natural flavors of high-quality ingredients rather than masking them with overpowering spices.\n",
    "</CONTEXT>\n",
    "''',\n",
    "    'fusion': f'''\n",
    "<CONTEXT>\n",
    "Fusion cuisine, by its very nature, is about blending culinary traditions and techniques from different cultures to create something new and exciting. \n",
    "Spices play a critical role in fusion cooking, acting as bridges between diverse flavor profiles and allowing chefs to create innovative and harmonious dishes.\n",
    "\n",
    "Key aspects of fusion cuisine and spice usage:\n",
    "Cross-Cultural Inspiration: Fusion dishes draw inspiration from two or more distinct culinary traditions, often blending ingredients, techniques, and spices in unexpected ways.\n",
    "Creative License: Chefs have significant freedom to experiment and develop unique flavor combinations, pushing boundaries and challenging traditional notions of cuisine.\n",
    "Balance and Harmony: The goal is to create dishes where the different components complement each other, resulting in a cohesive and delicious whole. Spices are crucial for achieving this balance.\n",
    "Global Pantry: Fusion cooking often utilizes a wide range of spices from around the world, creating a global pantry of flavors.\n",
    "\n",
    "Examples of spice usage in fusion cuisine:\n",
    "Asian-Latin Fusion:  Combining the heat of chilies with the umami of soy sauce and ginger, perhaps in a dish like Korean BBQ tacos or a Peruvian ceviche with aji amarillo and lemongrass.\n",
    "Mediterranean-Indian Fusion:  Blending the warmth of cumin and coriander with the brightness of oregano and lemon, perhaps in a dish like tandoori-spiced lamb with a Greek yogurt sauce or a chickpea curry with saffron and feta.\n",
    "French-Japanese Fusion:  Marrying the delicate flavors of miso and yuzu with the richness of butter and herbs, perhaps in a dish like miso-glazed sea bass with a beurre blanc sauce or a green tea crème brûlée.\n",
    "Mexican-Italian Fusion:  Combining the smokiness of chipotle peppers with the sweetness of tomatoes and basil, perhaps in a dish like chipotle pesto pasta or a pizza with chorizo and Oaxaca cheese.\n",
    "\n",
    "Spices often act as the unifying element in fusion dishes:\n",
    "Bridging Flavors: They can create a connection between seemingly disparate ingredients, for example, using turmeric to link coconut milk and chickpeas in a Thai-inspired curry.\n",
    "Adding Complexity: Layering spices from different traditions can create depth and nuance in a dish, for example, using star anise, cinnamon, and cloves in a Vietnamese-inspired pho broth.\n",
    "Creating Unexpected Twists: Introducing a spice from one cuisine into a dish from another can create a surprising and delightful element, for example, using smoked paprika in a Japanese ramen broth.\n",
    "</CONTEXT>\n",
    "''',\n",
    "    'other': f'''\n",
    "<CONTEXT>\n",
    "Provide a recipe for making the desired food item.\n",
    "</CONTEXT>\n",
    "'''\n",
    "}"
   ]
  },
  {
   "cell_type": "markdown",
   "id": "947bfa6f-7162-4b60-b707-30b2adcbe19c",
   "metadata": {},
   "source": [
    "Based on the identified category, the context we will be using in the Recipe agent is:"
   ]
  },
  {
   "cell_type": "code",
   "execution_count": null,
   "id": "0b56991a-629c-4326-b540-4a7092dd17c4",
   "metadata": {
    "tags": []
   },
   "outputs": [],
   "source": [
    "print(contexts[food_code])"
   ]
  },
  {
   "cell_type": "markdown",
   "id": "a4f61fa0-d70b-447b-bc11-4a7ac99ae8d6",
   "metadata": {},
   "source": [
    "# Instantiate the Recipe Agent"
   ]
  },
  {
   "cell_type": "markdown",
   "id": "6913f8ea-6544-46a9-9eaf-6a83d1e7da2c",
   "metadata": {},
   "source": [
    "This agent will use the output of the categorization agent and use the specific context for the identified food category to generate a recipe."
   ]
  },
  {
   "cell_type": "markdown",
   "id": "4a56a1cb-4b6c-41e7-ab93-6f8ae5ab8a8d",
   "metadata": {},
   "source": [
    "Define the generation config parameters for the recipe agent"
   ]
  },
  {
   "cell_type": "code",
   "execution_count": null,
   "id": "007455dc-c398-47c9-9617-e5698f47084d",
   "metadata": {
    "tags": []
   },
   "outputs": [],
   "source": [
    "recipe_agent_config = GenerationConfig(\n",
    "    response_mime_type = \"text/plain\",\n",
    "    #response_mime_type = \"application/json\",\n",
    "    temperature=1,\n",
    "    top_p=0.5,\n",
    "    top_k=3,\n",
    "    #candidate_count=1,\n",
    "    #max_output_tokens=8192,\n",
    "    #response_schema=response_schema\n",
    ")"
   ]
  },
  {
   "cell_type": "markdown",
   "id": "5e00a611-9528-4c94-a03e-a8cd2c0128ed",
   "metadata": {},
   "source": [
    "You can see here that we are using the food_category value to guide the persona of the recipe agent and the food_code to specify the context.\n",
    "This will help reduce the complexity of the context window while still allowing for a wide range of very specific instructions for the model."
   ]
  },
  {
   "cell_type": "code",
   "execution_count": null,
   "id": "52df3c0a-ac70-43cd-a869-57cd3f2aaa73",
   "metadata": {
    "tags": []
   },
   "outputs": [],
   "source": [
    "recipe_agent_sys_instruct = f'''\n",
    "<PERSONA>\n",
    "You are a culinary expert, specalizing in {food_category} cuisine.\n",
    "</PERSONA>\n",
    "\n",
    "{contexts[food_code]}\n",
    "\n",
    "<OBJECTIVE>\n",
    "Based on the provided context about '{food_category}', create a delicious and authentic recipe.\n",
    "</OBJECTIVE>\n",
    "'''\n"
   ]
  },
  {
   "cell_type": "markdown",
   "id": "5de170e6-b771-4f0a-bc42-6ae2021868cb",
   "metadata": {},
   "source": [
    "Now we will instantiate the recipe agent and generate the requested recipe"
   ]
  },
  {
   "cell_type": "code",
   "execution_count": null,
   "id": "60aa1a14-7921-4015-967e-569dc132af4e",
   "metadata": {
    "tags": []
   },
   "outputs": [],
   "source": [
    "recipe_agent_model = GenerativeModel(\n",
    "    \"gemini-1.5-pro-002\",\n",
    "    generation_config=recipe_agent_config,\n",
    "    #tools=[tool_final],\n",
    "    system_instruction=[recipe_agent_sys_instruct],\n",
    ")\n",
    "\n",
    "recipe_agent = recipe_agent_model.start_chat()"
   ]
  },
  {
   "cell_type": "markdown",
   "id": "51680851-4f7e-45f1-9b3f-18b5c86dec1a",
   "metadata": {},
   "source": [
    "## Start with a simple chat session"
   ]
  },
  {
   "cell_type": "markdown",
   "id": "556959ee-e70c-47e8-a582-f3e407516c24",
   "metadata": {},
   "source": [
    "We will start the recipe agent chat session with the same prompt we used for the categorization agent."
   ]
  },
  {
   "cell_type": "code",
   "execution_count": null,
   "id": "e858bbc7-e055-4a2a-b46f-42c2d5780a45",
   "metadata": {
    "tags": []
   },
   "outputs": [],
   "source": [
    "response = recipe_agent.send_message(prompt)\n",
    "print(response.text)"
   ]
  },
  {
   "cell_type": "markdown",
   "id": "e4ac1317-603f-41d5-b84f-9249cc9b9826",
   "metadata": {},
   "source": [
    "## Now let's continue the chat session with the recipe agent"
   ]
  },
  {
   "cell_type": "code",
   "execution_count": null,
   "id": "56d5dd7c-bcde-4e1f-83b0-4c45e91604f3",
   "metadata": {
    "tags": []
   },
   "outputs": [],
   "source": [
    "prompt = \"I need to feed 10 people. How should I change the measurements?\"\n",
    "response = recipe_agent.send_message(prompt)\n",
    "print(response.text)"
   ]
  },
  {
   "cell_type": "code",
   "execution_count": null,
   "id": "836d6d59-9a36-4ce4-af9a-9c3c5797ddbd",
   "metadata": {},
   "outputs": [],
   "source": []
  }
 ],
 "metadata": {
  "environment": {
   "kernel": "conda-base-py",
   "name": "workbench-notebooks.m124",
   "type": "gcloud",
   "uri": "us-docker.pkg.dev/deeplearning-platform-release/gcr.io/workbench-notebooks:m124"
  },
  "kernelspec": {
   "display_name": "Python 3 (ipykernel)",
   "language": "python",
   "name": "conda-base-py"
  },
  "language_info": {
   "codemirror_mode": {
    "name": "ipython",
    "version": 3
   },
   "file_extension": ".py",
   "mimetype": "text/x-python",
   "name": "python",
   "nbconvert_exporter": "python",
   "pygments_lexer": "ipython3",
   "version": "3.10.14"
  }
 },
 "nbformat": 4,
 "nbformat_minor": 5
}
